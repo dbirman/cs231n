{
 "cells": [
  {
   "cell_type": "code",
   "execution_count": 3,
   "metadata": {
    "collapsed": false
   },
   "outputs": [
    {
     "name": "stderr",
     "output_type": "stream",
     "text": [
      "Using Theano backend.\n",
      "/root/anaconda2/lib/python2.7/site-packages/theano/tensor/signal/downsample.py:5: UserWarning: downsample module has been moved to the pool module.\n",
      "  warnings.warn(\"downsample module has been moved to the pool module.\")\n",
      "Using Theano backend.\n"
     ]
    }
   ],
   "source": [
    "import numpy as np\n",
    "\n",
    "#from assets.keras.keras.datasets import shapes_3d\n",
    "from assets.keras.keras.preprocessing.image import ImageDataGenerator\n",
    "from assets.keras.keras.models import Sequential\n",
    "from assets.keras.keras.layers.core import Dense, Dropout, Activation, Flatten\n",
    "from assets.keras.keras.layers.convolutional import Convolution3D, MaxPooling3D, ZeroPadding3D\n",
    "from assets.keras.keras.optimizers import SGD, RMSprop\n",
    "from assets.keras.keras.utils import np_utils, generic_utils\n",
    "from assets.keras.keras.regularizers import l2\n",
    "import theano\n",
    "\n",
    "#load dataset from gen_dataset\n",
    "import cPickle as pickle"
   ]
  },
  {
   "cell_type": "code",
   "execution_count": 4,
   "metadata": {
    "collapsed": false
   },
   "outputs": [],
   "source": [
    "data = pickle.load(open('assets/data/lr_ds.data','rb'))\n",
    "\n"
   ]
  },
  {
   "cell_type": "code",
   "execution_count": 5,
   "metadata": {
    "collapsed": false
   },
   "outputs": [
    {
     "name": "stdout",
     "output_type": "stream",
     "text": [
      "Train data shape:  (800, 1, 16, 32, 32)\n",
      "Train labels shape:  (800,)\n",
      "Validation data shape:  (100, 1, 16, 32, 32)\n",
      "Validation labels shape:  (100,)\n",
      "Test data shape:  (100, 1, 16, 32, 32)\n",
      "Test labels shape:  (100,)\n"
     ]
    }
   ],
   "source": [
    "\n",
    "\n",
    "X_train = data['X_train']\n",
    "X_train = np.expand_dims(X_train,axis=1)\n",
    "Y_train = data['y_train']\n",
    "X_val = data['X_val']\n",
    "X_val = np.expand_dims(X_val,axis=1)\n",
    "Y_val = data['y_val']\n",
    "X_test = data['X_test']\n",
    "X_test = np.expand_dims(X_test,axis=1)\n",
    "Y_test = data['y_test']\n",
    "print 'Train data shape: ', X_train.shape\n",
    "print 'Train labels shape: ', Y_train.shape\n",
    "print 'Validation data shape: ', X_val.shape\n",
    "print 'Validation labels shape: ', Y_val.shape\n",
    "print 'Test data shape: ', X_test.shape\n",
    "print 'Test labels shape: ', Y_test.shape\n",
    "\n",
    "###\n",
    "X_train = X_train[0:200,:,:,:,:]\n",
    "Y_train = Y_train[0:200]\n",
    "X_val = X_val[0:40,:,:,:,:]\n",
    "Y_val = Y_val[0:40]\n",
    "# convert class vectors to binary class matrices\n",
    "Y_train = np_utils.to_categorical(Y_train-1, 2)\n",
    "Y_val = np_utils.to_categorical(Y_val-1,2)\n",
    "Y_test = np_utils.to_categorical(Y_test-1, 2)\n",
    "\n"
   ]
  },
  {
   "cell_type": "code",
   "execution_count": null,
   "metadata": {
    "collapsed": false
   },
   "outputs": [],
   "source": [
    "\n",
    "\n",
    "###\n",
    "###\n",
    "__author__ = 'Dan Birman'\n",
    "\n",
    "\n",
    "\n",
    "\"\"\"\n",
    "    To classify/track 3D shapes, such as human hands (http://www.dbs.ifi.lmu.de/~yu_k/icml2010_3dcnn.pdf),\n",
    "    we first need to find a distinct set of features. Specifically for 3D shapes, robust classification can be done using\n",
    "    3D features.\n",
    "\n",
    "    Features can be extracted by applying a 3D filters. We can auto learn these filters using 3D deep learning.\n",
    "\n",
    "    This example trains a simple network for classifying 3D shapes (Spheres, and Cubes).\n",
    "\n",
    "    GPU run command:\n",
    "        THEANO_FLAGS=mode=FAST_RUN,device=gpu,floatX=float32 python shapes_3d_cnn.py\n",
    "\n",
    "    CPU run command:\n",
    "        THEANO_FLAGS=mode=FAST_RUN,device=cpu,floatX=float32 python shapes_3d_cnn.py\n",
    "\n",
    "    For 4000 training samples and 1000 test samples.\n",
    "    90% accuracy reached after 40 epochs, 37 seconds/epoch on GTX Titan\n",
    "\"\"\"\n",
    "\n",
    "# Data Generation parameters\n",
    "#test_split = 0.2\n",
    "#dataset_size = 100\n",
    "#patch_size = 16\n",
    "\n"
   ]
  },
  {
   "cell_type": "code",
   "execution_count": 6,
   "metadata": {
    "collapsed": false
   },
   "outputs": [
    {
     "name": "stdout",
     "output_type": "stream",
     "text": [
      "('X_train shape:', (200, 1, 16, 32, 32))\n",
      "('Y_train shape:', (200, 2))\n",
      "('X_val shape:', (40, 1, 16, 32, 32))\n",
      "('Y_val shape:', (40, 2))\n",
      "('X_test shape:', (100, 1, 16, 32, 32))\n",
      "('Y_test shape:', (100, 2))\n",
      "(200, 'train samples')\n",
      "(40, 'val samples')\n",
      "(100, 'test samples')\n"
     ]
    }
   ],
   "source": [
    "\n",
    "#(X_train, Y_train),(X_test, Y_test) = shapes_3d.load_data(test_split=test_split,\n",
    "#                                                          dataset_size=dataset_size,\n",
    "#                                                          patch_size=patch_size)\n",
    "\n",
    "print('X_train shape:', X_train.shape)\n",
    "print('Y_train shape:', Y_train.shape)\n",
    "print('X_val shape:', X_val.shape)\n",
    "print('Y_val shape:', Y_val.shape)\n",
    "print('X_test shape:', X_test.shape)\n",
    "print('Y_test shape:', Y_test.shape)\n",
    "print(X_train.shape[0], 'train samples')\n",
    "print(X_val.shape[0], 'val samples')\n",
    "print(X_test.shape[0], 'test samples')\n",
    "\n"
   ]
  },
  {
   "cell_type": "code",
   "execution_count": 46,
   "metadata": {
    "collapsed": false
   },
   "outputs": [
    {
     "name": "stdout",
     "output_type": "stream",
     "text": [
      "Train on 200 samples, validate on 40 samples\n",
      "Epoch 1/100\n",
      "2s - loss: 0.4850 - acc: 0.5150 - val_loss: 0.5000 - val_acc: 0.5000\n",
      "Epoch 2/100\n",
      "2s - loss: 0.5000 - acc: 0.5000 - val_loss: 0.5000 - val_acc: 0.5000\n",
      "Epoch 3/100\n",
      "2s - loss: 0.5000 - acc: 0.5000 - val_loss: 0.5000 - val_acc: 0.5000\n",
      "Epoch 4/100\n",
      "2s - loss: 0.5000 - acc: 0.5000 - val_loss: 0.5000 - val_acc: 0.5000\n",
      "Epoch 5/100\n",
      "2s - loss: 0.5000 - acc: 0.5000 - val_loss: 0.5000 - val_acc: 0.5000\n",
      "Epoch 6/100\n",
      "2s - loss: 0.5000 - acc: 0.5000 - val_loss: 0.5000 - val_acc: 0.5000\n",
      "Epoch 7/100\n",
      "2s - loss: 0.5000 - acc: 0.5000 - val_loss: 0.5000 - val_acc: 0.5000\n",
      "Epoch 8/100\n",
      "2s - loss: 0.5000 - acc: 0.5000 - val_loss: 0.5000 - val_acc: 0.5000\n",
      "Epoch 9/100\n",
      "2s - loss: 0.5000 - acc: 0.5000 - val_loss: 0.5000 - val_acc: 0.5000\n",
      "Epoch 10/100\n",
      "2s - loss: 0.5000 - acc: 0.5000 - val_loss: 0.5000 - val_acc: 0.5000\n",
      "Epoch 11/100\n",
      "2s - loss: 0.5000 - acc: 0.5000 - val_loss: 0.5000 - val_acc: 0.5000\n",
      "Epoch 12/100\n",
      "2s - loss: 0.5000 - acc: 0.5000 - val_loss: 0.5000 - val_acc: 0.5000\n",
      "Epoch 13/100\n",
      "2s - loss: 0.5000 - acc: 0.5000 - val_loss: 0.5000 - val_acc: 0.5000\n",
      "Epoch 14/100\n",
      "2s - loss: 0.5000 - acc: 0.5000 - val_loss: 0.5000 - val_acc: 0.5000\n",
      "Epoch 15/100\n",
      "2s - loss: 0.5000 - acc: 0.5000 - val_loss: 0.5000 - val_acc: 0.5000\n",
      "Epoch 16/100\n",
      "2s - loss: 0.5000 - acc: 0.5000 - val_loss: 0.5000 - val_acc: 0.5000\n",
      "Epoch 17/100\n",
      "2s - loss: 0.5000 - acc: 0.5000 - val_loss: 0.5000 - val_acc: 0.5000\n",
      "Epoch 18/100\n",
      "2s - loss: 0.5000 - acc: 0.5000 - val_loss: 0.5000 - val_acc: 0.5000\n",
      "Epoch 19/100\n",
      "2s - loss: 0.5000 - acc: 0.5000 - val_loss: 0.5000 - val_acc: 0.5000\n",
      "Epoch 20/100\n",
      "2s - loss: 0.5000 - acc: 0.5000 - val_loss: 0.5000 - val_acc: 0.5000\n",
      "Epoch 21/100\n",
      "2s - loss: 0.5000 - acc: 0.5000 - val_loss: 0.5000 - val_acc: 0.5000\n",
      "Epoch 22/100\n",
      "2s - loss: 0.5000 - acc: 0.5000 - val_loss: 0.5000 - val_acc: 0.5000\n",
      "Epoch 23/100\n",
      "2s - loss: 0.5000 - acc: 0.5000 - val_loss: 0.5000 - val_acc: 0.5000\n",
      "Epoch 24/100\n",
      "2s - loss: 0.5000 - acc: 0.5000 - val_loss: 0.5000 - val_acc: 0.5000\n",
      "Epoch 25/100\n",
      "2s - loss: 0.5000 - acc: 0.5000 - val_loss: 0.5000 - val_acc: 0.5000\n",
      "Epoch 26/100\n"
     ]
    },
    {
     "ename": "KeyboardInterrupt",
     "evalue": "",
     "output_type": "error",
     "traceback": [
      "\u001b[1;31m---------------------------------------------------------------------------\u001b[0m",
      "\u001b[1;31mKeyboardInterrupt\u001b[0m                         Traceback (most recent call last)",
      "\u001b[1;32m<ipython-input-46-a1be598df6f8>\u001b[0m in \u001b[0;36m<module>\u001b[1;34m()\u001b[0m\n\u001b[0;32m     43\u001b[0m \u001b[1;33m\u001b[0m\u001b[0m\n\u001b[0;32m     44\u001b[0m hist = model.fit(X_train, Y_train, batch_size=batch_size, nb_epoch=nb_epoch, show_accuracy=True, verbose=2,\n\u001b[1;32m---> 45\u001b[1;33m           validation_data=(X_val, Y_val))\n\u001b[0m\u001b[0;32m     46\u001b[0m \u001b[0mscore\u001b[0m \u001b[1;33m=\u001b[0m \u001b[0mmodel\u001b[0m\u001b[1;33m.\u001b[0m\u001b[0mevaluate\u001b[0m\u001b[1;33m(\u001b[0m\u001b[0mX_test\u001b[0m\u001b[1;33m,\u001b[0m \u001b[0mY_test\u001b[0m\u001b[1;33m,\u001b[0m \u001b[0mbatch_size\u001b[0m\u001b[1;33m=\u001b[0m\u001b[0mbatch_size\u001b[0m\u001b[1;33m,\u001b[0m \u001b[0mshow_accuracy\u001b[0m\u001b[1;33m=\u001b[0m\u001b[0mTrue\u001b[0m\u001b[1;33m)\u001b[0m\u001b[1;33m\u001b[0m\u001b[0m\n\u001b[0;32m     47\u001b[0m \u001b[1;32mprint\u001b[0m\u001b[1;33m(\u001b[0m\u001b[1;34m'Test score:'\u001b[0m\u001b[1;33m,\u001b[0m \u001b[0mscore\u001b[0m\u001b[1;33m[\u001b[0m\u001b[1;36m0\u001b[0m\u001b[1;33m]\u001b[0m\u001b[1;33m)\u001b[0m\u001b[1;33m\u001b[0m\u001b[0m\n",
      "\u001b[1;32m/root/assignment3/motnet/assets/keras/keras/models.py\u001b[0m in \u001b[0;36mfit\u001b[1;34m(self, X, y, batch_size, nb_epoch, verbose, callbacks, validation_split, validation_data, shuffle, show_accuracy, class_weight, sample_weight)\u001b[0m\n\u001b[0;32m    644\u001b[0m                          \u001b[0mverbose\u001b[0m\u001b[1;33m=\u001b[0m\u001b[0mverbose\u001b[0m\u001b[1;33m,\u001b[0m \u001b[0mcallbacks\u001b[0m\u001b[1;33m=\u001b[0m\u001b[0mcallbacks\u001b[0m\u001b[1;33m,\u001b[0m\u001b[1;33m\u001b[0m\u001b[0m\n\u001b[0;32m    645\u001b[0m                          \u001b[0mval_f\u001b[0m\u001b[1;33m=\u001b[0m\u001b[0mval_f\u001b[0m\u001b[1;33m,\u001b[0m \u001b[0mval_ins\u001b[0m\u001b[1;33m=\u001b[0m\u001b[0mval_ins\u001b[0m\u001b[1;33m,\u001b[0m\u001b[1;33m\u001b[0m\u001b[0m\n\u001b[1;32m--> 646\u001b[1;33m                          shuffle=shuffle, metrics=metrics)\n\u001b[0m\u001b[0;32m    647\u001b[0m \u001b[1;33m\u001b[0m\u001b[0m\n\u001b[0;32m    648\u001b[0m     \u001b[1;32mdef\u001b[0m \u001b[0mpredict\u001b[0m\u001b[1;33m(\u001b[0m\u001b[0mself\u001b[0m\u001b[1;33m,\u001b[0m \u001b[0mX\u001b[0m\u001b[1;33m,\u001b[0m \u001b[0mbatch_size\u001b[0m\u001b[1;33m=\u001b[0m\u001b[1;36m128\u001b[0m\u001b[1;33m,\u001b[0m \u001b[0mverbose\u001b[0m\u001b[1;33m=\u001b[0m\u001b[1;36m0\u001b[0m\u001b[1;33m)\u001b[0m\u001b[1;33m:\u001b[0m\u001b[1;33m\u001b[0m\u001b[0m\n",
      "\u001b[1;32m/root/assignment3/motnet/assets/keras/keras/models.py\u001b[0m in \u001b[0;36m_fit\u001b[1;34m(self, f, ins, out_labels, batch_size, nb_epoch, verbose, callbacks, val_f, val_ins, shuffle, metrics)\u001b[0m\n\u001b[0;32m    279\u001b[0m                 \u001b[0mbatch_logs\u001b[0m\u001b[1;33m[\u001b[0m\u001b[1;34m'size'\u001b[0m\u001b[1;33m]\u001b[0m \u001b[1;33m=\u001b[0m \u001b[0mlen\u001b[0m\u001b[1;33m(\u001b[0m\u001b[0mbatch_ids\u001b[0m\u001b[1;33m)\u001b[0m\u001b[1;33m\u001b[0m\u001b[0m\n\u001b[0;32m    280\u001b[0m                 \u001b[0mcallbacks\u001b[0m\u001b[1;33m.\u001b[0m\u001b[0mon_batch_begin\u001b[0m\u001b[1;33m(\u001b[0m\u001b[0mbatch_index\u001b[0m\u001b[1;33m,\u001b[0m \u001b[0mbatch_logs\u001b[0m\u001b[1;33m)\u001b[0m\u001b[1;33m\u001b[0m\u001b[0m\n\u001b[1;32m--> 281\u001b[1;33m                 \u001b[0mouts\u001b[0m \u001b[1;33m=\u001b[0m \u001b[0mf\u001b[0m\u001b[1;33m(\u001b[0m\u001b[0mins_batch\u001b[0m\u001b[1;33m)\u001b[0m\u001b[1;33m\u001b[0m\u001b[0m\n\u001b[0m\u001b[0;32m    282\u001b[0m                 \u001b[1;32mif\u001b[0m \u001b[0mtype\u001b[0m\u001b[1;33m(\u001b[0m\u001b[0mouts\u001b[0m\u001b[1;33m)\u001b[0m \u001b[1;33m!=\u001b[0m \u001b[0mlist\u001b[0m\u001b[1;33m:\u001b[0m\u001b[1;33m\u001b[0m\u001b[0m\n\u001b[0;32m    283\u001b[0m                     \u001b[0mouts\u001b[0m \u001b[1;33m=\u001b[0m \u001b[1;33m[\u001b[0m\u001b[0mouts\u001b[0m\u001b[1;33m]\u001b[0m\u001b[1;33m\u001b[0m\u001b[0m\n",
      "\u001b[1;32m/root/assignment3/motnet/assets/keras/keras/backend/theano_backend.py\u001b[0m in \u001b[0;36m__call__\u001b[1;34m(self, inputs)\u001b[0m\n\u001b[0;32m    441\u001b[0m     \u001b[1;32mdef\u001b[0m \u001b[0m__call__\u001b[0m\u001b[1;33m(\u001b[0m\u001b[0mself\u001b[0m\u001b[1;33m,\u001b[0m \u001b[0minputs\u001b[0m\u001b[1;33m)\u001b[0m\u001b[1;33m:\u001b[0m\u001b[1;33m\u001b[0m\u001b[0m\n\u001b[0;32m    442\u001b[0m         \u001b[1;32massert\u001b[0m \u001b[0mtype\u001b[0m\u001b[1;33m(\u001b[0m\u001b[0minputs\u001b[0m\u001b[1;33m)\u001b[0m \u001b[1;32min\u001b[0m \u001b[1;33m{\u001b[0m\u001b[0mlist\u001b[0m\u001b[1;33m,\u001b[0m \u001b[0mtuple\u001b[0m\u001b[1;33m}\u001b[0m\u001b[1;33m\u001b[0m\u001b[0m\n\u001b[1;32m--> 443\u001b[1;33m         \u001b[1;32mreturn\u001b[0m \u001b[0mself\u001b[0m\u001b[1;33m.\u001b[0m\u001b[0mfunction\u001b[0m\u001b[1;33m(\u001b[0m\u001b[1;33m*\u001b[0m\u001b[0minputs\u001b[0m\u001b[1;33m)\u001b[0m\u001b[1;33m\u001b[0m\u001b[0m\n\u001b[0m\u001b[0;32m    444\u001b[0m \u001b[1;33m\u001b[0m\u001b[0m\n\u001b[0;32m    445\u001b[0m \u001b[1;33m\u001b[0m\u001b[0m\n",
      "\u001b[1;32m/root/anaconda2/lib/python2.7/site-packages/theano/compile/function_module.pyc\u001b[0m in \u001b[0;36m__call__\u001b[1;34m(self, *args, **kwargs)\u001b[0m\n\u001b[0;32m    857\u001b[0m         \u001b[0mt0_fn\u001b[0m \u001b[1;33m=\u001b[0m \u001b[0mtime\u001b[0m\u001b[1;33m.\u001b[0m\u001b[0mtime\u001b[0m\u001b[1;33m(\u001b[0m\u001b[1;33m)\u001b[0m\u001b[1;33m\u001b[0m\u001b[0m\n\u001b[0;32m    858\u001b[0m         \u001b[1;32mtry\u001b[0m\u001b[1;33m:\u001b[0m\u001b[1;33m\u001b[0m\u001b[0m\n\u001b[1;32m--> 859\u001b[1;33m             \u001b[0moutputs\u001b[0m \u001b[1;33m=\u001b[0m \u001b[0mself\u001b[0m\u001b[1;33m.\u001b[0m\u001b[0mfn\u001b[0m\u001b[1;33m(\u001b[0m\u001b[1;33m)\u001b[0m\u001b[1;33m\u001b[0m\u001b[0m\n\u001b[0m\u001b[0;32m    860\u001b[0m         \u001b[1;32mexcept\u001b[0m \u001b[0mException\u001b[0m\u001b[1;33m:\u001b[0m\u001b[1;33m\u001b[0m\u001b[0m\n\u001b[0;32m    861\u001b[0m             \u001b[1;32mif\u001b[0m \u001b[0mhasattr\u001b[0m\u001b[1;33m(\u001b[0m\u001b[0mself\u001b[0m\u001b[1;33m.\u001b[0m\u001b[0mfn\u001b[0m\u001b[1;33m,\u001b[0m \u001b[1;34m'position_of_error'\u001b[0m\u001b[1;33m)\u001b[0m\u001b[1;33m:\u001b[0m\u001b[1;33m\u001b[0m\u001b[0m\n",
      "\u001b[1;32m/root/anaconda2/lib/python2.7/site-packages/theano/gof/op.pyc\u001b[0m in \u001b[0;36mrval\u001b[1;34m(p, i, o, n)\u001b[0m\n\u001b[0;32m    909\u001b[0m         \u001b[1;32mif\u001b[0m \u001b[0mparams\u001b[0m \u001b[1;32mis\u001b[0m \u001b[0mgraph\u001b[0m\u001b[1;33m.\u001b[0m\u001b[0mNoParams\u001b[0m\u001b[1;33m:\u001b[0m\u001b[1;33m\u001b[0m\u001b[0m\n\u001b[0;32m    910\u001b[0m             \u001b[1;31m# default arguments are stored in the closure of `rval`\u001b[0m\u001b[1;33m\u001b[0m\u001b[1;33m\u001b[0m\u001b[0m\n\u001b[1;32m--> 911\u001b[1;33m             \u001b[1;32mdef\u001b[0m \u001b[0mrval\u001b[0m\u001b[1;33m(\u001b[0m\u001b[0mp\u001b[0m\u001b[1;33m=\u001b[0m\u001b[0mp\u001b[0m\u001b[1;33m,\u001b[0m \u001b[0mi\u001b[0m\u001b[1;33m=\u001b[0m\u001b[0mnode_input_storage\u001b[0m\u001b[1;33m,\u001b[0m \u001b[0mo\u001b[0m\u001b[1;33m=\u001b[0m\u001b[0mnode_output_storage\u001b[0m\u001b[1;33m,\u001b[0m \u001b[0mn\u001b[0m\u001b[1;33m=\u001b[0m\u001b[0mnode\u001b[0m\u001b[1;33m)\u001b[0m\u001b[1;33m:\u001b[0m\u001b[1;33m\u001b[0m\u001b[0m\n\u001b[0m\u001b[0;32m    912\u001b[0m                 \u001b[0mr\u001b[0m \u001b[1;33m=\u001b[0m \u001b[0mp\u001b[0m\u001b[1;33m(\u001b[0m\u001b[0mn\u001b[0m\u001b[1;33m,\u001b[0m \u001b[1;33m[\u001b[0m\u001b[0mx\u001b[0m\u001b[1;33m[\u001b[0m\u001b[1;36m0\u001b[0m\u001b[1;33m]\u001b[0m \u001b[1;32mfor\u001b[0m \u001b[0mx\u001b[0m \u001b[1;32min\u001b[0m \u001b[0mi\u001b[0m\u001b[1;33m]\u001b[0m\u001b[1;33m,\u001b[0m \u001b[0mo\u001b[0m\u001b[1;33m)\u001b[0m\u001b[1;33m\u001b[0m\u001b[0m\n\u001b[0;32m    913\u001b[0m                 \u001b[1;32mfor\u001b[0m \u001b[0mo\u001b[0m \u001b[1;32min\u001b[0m \u001b[0mnode\u001b[0m\u001b[1;33m.\u001b[0m\u001b[0moutputs\u001b[0m\u001b[1;33m:\u001b[0m\u001b[1;33m\u001b[0m\u001b[0m\n",
      "\u001b[1;31mKeyboardInterrupt\u001b[0m: "
     ]
    }
   ],
   "source": [
    "\n",
    "# CNN Training parameters\n",
    "batch_size = 40\n",
    "nb_classes = 2\n",
    "nb_epoch = 100\n",
    "\n",
    "\n",
    "# number of convolutional filters to use at each layer\n",
    "nb_filters = [8,8,32]\n",
    "\n",
    "# level of pooling to perform at each layer (POOL x POOL)\n",
    "nb_pool = [4,4,4]\n",
    "\n",
    "# level of convolution to perform at each layer (CONV x CONV)\n",
    "depth = [3,3,3]\n",
    "nb_conv = [3,3,3]\n",
    "\n",
    "# Regularization\n",
    "reg = 0\n",
    "\n",
    "model = Sequential()\n",
    "model.add(ZeroPadding3D((1,1,1),input_shape=(1,16,32,32)))\n",
    "model.add(Convolution3D(nb_filters[0],len_conv_dim1=nb_conv[0], len_conv_dim2=nb_conv[0], len_conv_dim3=nb_conv[0], border_mode='valid',\n",
    "                         activation='relu', W_regularizer=l2(reg),dim_ordering='th'))\n",
    "model.add(MaxPooling3D(pool_size=(1, nb_pool[0], nb_pool[0])))\n",
    "#model.add(Dropout(0.5))\n",
    "#model.add(ZeroPadding3D((1,1,1)))\n",
    "#model.add(Convolution3D(nb_filters[1],len_conv_dim1=nb_conv[1], len_conv_dim2=nb_conv[1], len_conv_dim3=nb_conv[1], border_mode='valid',\n",
    "#                        activation='relu', W_regularizer=l2(reg)))\n",
    "#model.add(MaxPooling3D(pool_size=(nb_pool[1], nb_pool[1], nb_pool[1])))\n",
    "#model.add(Dropout(0.5))\n",
    "#model.add(ZeroPadding3D((1,1,1)))\n",
    "#model.add(Convolution3D(nb_filters[2],nb_depth=nb_conv[2], nb_row=nb_conv[2], nb_col=nb_conv[2], border_mode='valid',\n",
    "#                        activation='relu', W_regularizer=l2(reg)))\n",
    "model.add(Flatten())\n",
    "#model.add(Dropout(0.5))\n",
    "model.add(Dense(16, init='normal', activation='relu', W_regularizer=l2(reg)))\n",
    "model.add(Dense(nb_classes, init='normal', W_regularizer=l2(reg)))\n",
    "model.add(Activation('softmax'))\n",
    "\n",
    "sgd = RMSprop(lr=1e-2, decay=0, momentum=0.9, nesterov=True)\n",
    "model.compile(loss='mse', optimizer=sgd)\n",
    "\n",
    "hist = model.fit(X_train, Y_train, batch_size=batch_size, nb_epoch=nb_epoch, show_accuracy=True, verbose=2,\n",
    "          validation_data=(X_val, Y_val))\n",
    "score = model.evaluate(X_test, Y_test, batch_size=batch_size, show_accuracy=True)\n",
    "print('Test score:', score[0])\n",
    "print('Test accuracy:', score[1])"
   ]
  },
  {
   "cell_type": "code",
   "execution_count": 45,
   "metadata": {
    "collapsed": false,
    "scrolled": true
   },
   "outputs": [
    {
     "name": "stdout",
     "output_type": "stream",
     "text": [
      "{'name': 'ZeroPadding3D', 'custom_name': 'zeropadding3d', 'trainable': True, 'input_shape': (1, 16, 32, 32), 'padding': (1, 1, 1), 'cache_enabled': True}\n",
      "{'len_conv_dim3': 3, 'W_constraint': None, 'b_constraint': None, 'name': 'Convolution3D', 'custom_name': 'convolution3d', 'len_conv_dim1': 3, 'activation': 'relu', 'trainable': True, 'dim_ordering': 'th', 'subsample': (1, 1, 1), 'cache_enabled': True, 'init': 'glorot_uniform', 'nb_filter': 8, 'len_conv_dim2': 3, 'b_regularizer': None, 'W_regularizer': {'l2': 0, 'name': 'WeightRegularizer', 'l1': 0.0}, 'activity_regularizer': None, 'border_mode': 'valid'}\n",
      "[[[[[ -2.74358571e-01   3.72564256e-01   3.87477309e-01]\n",
      "    [  3.94454718e-01   1.85320616e-01   1.63787410e-01]\n",
      "    [  1.35764420e-01  -1.26158055e-02  -3.69140923e-01]]\n",
      "\n",
      "   [[ -3.71914744e-01   1.13810241e-01   2.24584281e-01]\n",
      "    [  1.73066974e-01  -2.85709143e-01  -9.43891332e-03]\n",
      "    [  5.10011315e-02  -1.17257498e-02   8.13381821e-02]]\n",
      "\n",
      "   [[  4.04367119e-01  -1.45675093e-01   1.42415881e-01]\n",
      "    [  7.77721629e-02   2.49588385e-01   1.39796138e-01]\n",
      "    [  2.09145367e-01   2.26661593e-01  -2.96135200e-03]]]]\n",
      "\n",
      "\n",
      "\n",
      " [[[[  8.53988677e-02  -1.58866569e-01  -3.25086236e-01]\n",
      "    [  1.71591833e-01  -1.29013777e-01  -8.31854157e-03]\n",
      "    [ -2.16966987e-01   4.16738570e-01   3.46440613e-01]]\n",
      "\n",
      "   [[ -3.81192476e-01  -2.91314125e-01  -2.00959876e-01]\n",
      "    [ -1.41298085e-01  -9.16994885e-02   1.95239201e-01]\n",
      "    [ -2.33012900e-01   1.16843872e-01   7.68311992e-02]]\n",
      "\n",
      "   [[ -2.87557751e-01  -2.74918407e-01   9.96829197e-02]\n",
      "    [ -2.64573842e-01   1.79734662e-01  -2.41015226e-01]\n",
      "    [  1.83327153e-01  -6.25007823e-02  -2.99254507e-02]]]]\n",
      "\n",
      "\n",
      "\n",
      " [[[[  1.13990381e-02   4.21266913e-01  -1.94853827e-01]\n",
      "    [  3.54196459e-01   2.68402904e-01   8.19960758e-02]\n",
      "    [  3.17605019e-01  -1.26262289e-02   2.03348383e-01]]\n",
      "\n",
      "   [[ -2.74666071e-01   2.76416719e-01  -4.81023714e-02]\n",
      "    [  3.96766961e-01   1.14470713e-01  -3.36964428e-01]\n",
      "    [ -2.11416364e-01  -3.35530043e-01  -2.71936983e-01]]\n",
      "\n",
      "   [[  2.18955651e-02   1.73235834e-01  -3.82426903e-02]\n",
      "    [  2.67400414e-01  -1.01952791e-01   4.21699673e-01]\n",
      "    [  1.90462396e-01  -2.40774050e-01   3.00464690e-01]]]]\n",
      "\n",
      "\n",
      "\n",
      " [[[[ -1.60471231e-01  -2.22100228e-01  -2.95676082e-01]\n",
      "    [  3.84942323e-01  -1.21641159e-01  -3.84737432e-01]\n",
      "    [  4.02267247e-01   2.11560830e-01   2.46293575e-01]]\n",
      "\n",
      "   [[ -1.76914588e-01   1.40672162e-01   1.02442525e-01]\n",
      "    [ -1.85599968e-01   3.97965074e-01  -1.42876998e-01]\n",
      "    [  4.02334660e-01   1.92192644e-01   4.10398543e-01]]\n",
      "\n",
      "   [[ -1.77859321e-01  -3.58956039e-01  -2.59851247e-01]\n",
      "    [  3.39892507e-01   1.26422122e-01  -4.14172739e-01]\n",
      "    [  2.66568273e-01   5.05309179e-03   1.72987849e-01]]]]\n",
      "\n",
      "\n",
      "\n",
      " [[[[  4.41189334e-02  -1.13562375e-01   2.86086321e-01]\n",
      "    [ -1.43880755e-01   1.76177144e-01  -3.53400230e-01]\n",
      "    [ -2.17212081e-01  -9.92198586e-02  -3.99551481e-01]]\n",
      "\n",
      "   [[  1.99507490e-01   7.34205171e-02  -8.01056810e-03]\n",
      "    [ -3.47491354e-01  -2.03851104e-01  -1.75983980e-01]\n",
      "    [  4.67529744e-02  -2.68537343e-01  -6.82867318e-02]]\n",
      "\n",
      "   [[  7.86129832e-02   9.35876295e-02  -1.11750336e-02]\n",
      "    [ -3.01074624e-01   1.89351842e-01  -2.16847584e-01]\n",
      "    [  3.12311172e-01  -3.92740846e-01  -3.13873589e-01]]]]\n",
      "\n",
      "\n",
      "\n",
      " [[[[ -9.68353003e-02  -2.22653419e-01  -2.87773311e-01]\n",
      "    [ -2.19049186e-01   2.06904784e-01   3.63583267e-01]\n",
      "    [  2.15045318e-01   3.53578432e-03   2.87258804e-01]]\n",
      "\n",
      "   [[ -1.02703288e-01   1.85939223e-01  -1.03250086e-01]\n",
      "    [ -1.78856865e-01  -1.31619237e-02   1.44399866e-01]\n",
      "    [ -3.35505784e-01  -3.77007306e-01   2.94524431e-01]]\n",
      "\n",
      "   [[ -4.64729443e-02  -2.05097288e-01   2.74296492e-01]\n",
      "    [  3.16945612e-01   2.37785876e-01  -1.49172157e-01]\n",
      "    [  3.12650055e-01   3.79395150e-02   2.32340783e-01]]]]\n",
      "\n",
      "\n",
      "\n",
      " [[[[  1.30827293e-01   2.63511449e-01   2.08873436e-01]\n",
      "    [  2.77760386e-01   3.25424403e-01   4.02756631e-01]\n",
      "    [ -3.46548140e-01   3.39701772e-04   3.91662270e-01]]\n",
      "\n",
      "   [[ -1.69095844e-01   1.30696848e-01   6.29841760e-02]\n",
      "    [ -5.38847223e-02   3.53190064e-01   5.58825843e-02]\n",
      "    [ -2.57599372e-02   2.47829080e-01  -3.50362509e-01]]\n",
      "\n",
      "   [[ -4.36359756e-02   1.01656765e-02  -1.45893872e-01]\n",
      "    [ -9.25507993e-02  -7.09267706e-02  -5.47433719e-02]\n",
      "    [ -2.45984390e-01   1.39856279e-01  -3.65019321e-01]]]]\n",
      "\n",
      "\n",
      "\n",
      " [[[[ -1.12524740e-01   1.93014801e-01  -2.01495349e-01]\n",
      "    [ -6.27487972e-02   2.97257304e-01   3.82974833e-01]\n",
      "    [  6.50556758e-03  -2.00277790e-01  -1.50215104e-01]]\n",
      "\n",
      "   [[  2.71476865e-01  -5.78971244e-02   1.39475971e-01]\n",
      "    [  1.60391517e-02  -3.06559876e-02  -1.54497653e-01]\n",
      "    [ -2.14327276e-02  -3.53710175e-01  -1.26276404e-01]]\n",
      "\n",
      "   [[  8.80158171e-02  -1.69754505e-01   1.27192914e-01]\n",
      "    [ -8.49039704e-02   1.21570393e-01  -1.38204828e-01]\n",
      "    [  7.82800466e-02   7.93230385e-02   1.07343711e-01]]]]]\n",
      "(8, 1, 3, 3, 3)\n",
      "[  4.45367004e-06   6.51283481e-05   2.73268117e-04   3.34220131e-05\n",
      "  -6.12212520e-04  -1.67160571e-04  -1.43487530e-04   4.48159146e-04]\n",
      "(8,)\n",
      "{'name': 'MaxPooling3D', 'custom_name': 'maxpooling3d', 'strides': (1, 4, 4), 'trainable': True, 'dim_ordering': 'th', 'pool_size': (1, 4, 4), 'cache_enabled': True, 'border_mode': 'valid'}\n",
      "{'cache_enabled': True, 'trainable': True, 'name': 'Flatten', 'custom_name': 'flatten'}\n",
      "{'W_constraint': None, 'b_constraint': None, 'name': 'Dense', 'custom_name': 'dense', 'activity_regularizer': None, 'trainable': True, 'cache_enabled': True, 'init': 'normal', 'activation': 'linear', 'input_dim': None, 'b_regularizer': None, 'W_regularizer': {'l2': 0, 'name': 'WeightRegularizer', 'l1': 0.0}, 'output_dim': 2}\n",
      "[[-0.05243985 -0.08298877]\n",
      " [ 0.02164999 -0.02856625]\n",
      " [ 0.025628   -0.0998513 ]\n",
      " ..., \n",
      " [-0.00449863  0.08628032]\n",
      " [ 0.00758116 -0.03803335]\n",
      " [-0.03198536 -0.00330956]]\n",
      "(8192, 2)\n",
      "[  9.52066111e-05  -9.52102855e-05]\n",
      "(2,)\n",
      "{'cache_enabled': True, 'activation': 'softmax', 'trainable': True, 'name': 'Activation', 'custom_name': 'activation'}\n"
     ]
    }
   ],
   "source": [
    "for layer in model.layers:\n",
    "    g = layer.get_config()\n",
    "    h = layer.get_weights()\n",
    "    print g\n",
    "    for hi in h:\n",
    "        print hi\n",
    "        print hi.shape"
   ]
  },
  {
   "cell_type": "code",
   "execution_count": 52,
   "metadata": {
    "collapsed": false
   },
   "outputs": [
    {
     "name": "stdout",
     "output_type": "stream",
     "text": [
      "(200, 1, 16, 32, 32)\n",
      "[[  0   0   0   0   0]\n",
      " [  0   0 255   0   0]\n",
      " [  0   0   0 255   0]\n",
      " [  0   0   0   0   0]\n",
      " [  0   0   0   0   0]\n",
      " [  0   0   0 255 255]\n",
      " [255   0 255   0   0]\n",
      " [  0   0   0   0   0]\n",
      " [255   0   0   0 255]\n",
      " [  0   0   0   0   0]\n",
      " [  0   0   0   0 255]\n",
      " [  0   0 255 255 255]\n",
      " [  0   0   0   0   0]\n",
      " [255   0   0   0   0]\n",
      " [  0 255 255   0 255]\n",
      " [  0   0   0   0   0]]\n"
     ]
    }
   ],
   "source": [
    "print X_train.shape\n",
    "print X_train[0,0,:,0:5,0]"
   ]
  },
  {
   "cell_type": "code",
   "execution_count": null,
   "metadata": {
    "collapsed": false
   },
   "outputs": [],
   "source": [
    "print dir(model.layers[3])"
   ]
  },
  {
   "cell_type": "code",
   "execution_count": null,
   "metadata": {
    "collapsed": true
   },
   "outputs": [],
   "source": []
  }
 ],
 "metadata": {
  "kernelspec": {
   "display_name": "Python 2",
   "language": "python",
   "name": "python2"
  },
  "language_info": {
   "codemirror_mode": {
    "name": "ipython",
    "version": 2
   },
   "file_extension": ".py",
   "mimetype": "text/x-python",
   "name": "python",
   "nbconvert_exporter": "python",
   "pygments_lexer": "ipython2",
   "version": "2.7.11"
  }
 },
 "nbformat": 4,
 "nbformat_minor": 0
}
