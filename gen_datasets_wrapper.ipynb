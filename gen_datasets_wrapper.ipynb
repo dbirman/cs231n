{
 "cells": [
  {
   "cell_type": "code",
   "execution_count": 145,
   "metadata": {
    "collapsed": false
   },
   "outputs": [
    {
     "name": "stdout",
     "output_type": "stream",
     "text": [
      "The autoreload extension is already loaded. To reload it, use:\n",
      "  %reload_ext autoreload\n"
     ]
    }
   ],
   "source": [
    "#author: steeve laquitaine\n",
    "#setup\n",
    "\n",
    "from assets.gen_motion import gen_motion\n",
    "import numpy as np\n",
    "%load_ext autoreload\n",
    "%autoreload 2"
   ]
  },
  {
   "cell_type": "markdown",
   "metadata": {},
   "source": [
    "#Translation"
   ]
  },
  {
   "cell_type": "code",
   "execution_count": 146,
   "metadata": {
    "collapsed": false
   },
   "outputs": [],
   "source": [
    "#\"Translate\" parameters\n",
    "# x,y,t,n,velocity,theta,coherence:\n",
    "x = 32; y = 32; t = 16; n = 150;velocity = 1; theta=np.pi/2; coh = 1\n",
    "mymot = gen_motion('Translate',x,y,t,n,velocity,theta,coh,None,None) "
   ]
  },
  {
   "cell_type": "markdown",
   "metadata": {},
   "source": [
    "#Rotation"
   ]
  },
  {
   "cell_type": "code",
   "execution_count": 147,
   "metadata": {
    "collapsed": true
   },
   "outputs": [],
   "source": [
    "#\"rotation\" parameters\n",
    "# x,y,t,n,rotational_speed,dot_radius,frames_per_second):\n",
    "x = 32; y = 32; t = 16; n = 150; velocity = 30*1.0/180*np.pi; dot_radius = 1; frames_per_second = 20;\n",
    "mymot = gen_motion('rotation',x,y,t,n,velocity,None,None,dot_radius,frames_per_second)                                 "
   ]
  },
  {
   "cell_type": "markdown",
   "metadata": {},
   "source": [
    "#Opticflow"
   ]
  },
  {
   "cell_type": "code",
   "execution_count": 148,
   "metadata": {
    "collapsed": true
   },
   "outputs": [],
   "source": [
    "#\"opticflowmotion\" parameters\n",
    "# x,y,t,n,velocity\n",
    "x = 32; y = 32; t = 16; n = 150; velocity = 1\n",
    "mymot = gen_motion('opticflowmotion',x,y,t,n,velocity,None,None,None,None) "
   ]
  },
  {
   "cell_type": "code",
   "execution_count": null,
   "metadata": {
    "collapsed": true
   },
   "outputs": [],
   "source": []
  }
 ],
 "metadata": {
  "kernelspec": {
   "display_name": "Python 2",
   "language": "python",
   "name": "python2"
  },
  "language_info": {
   "codemirror_mode": {
    "name": "ipython",
    "version": 2
   },
   "file_extension": ".py",
   "mimetype": "text/x-python",
   "name": "python",
   "nbconvert_exporter": "python",
   "pygments_lexer": "ipython2",
   "version": "2.7.11"
  }
 },
 "nbformat": 4,
 "nbformat_minor": 0
}
