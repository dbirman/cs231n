{
 "cells": [
  {
   "cell_type": "code",
   "execution_count": 72,
   "metadata": {
    "collapsed": false
   },
   "outputs": [
    {
     "name": "stdout",
     "output_type": "stream",
     "text": [
      "The autoreload extension is already loaded. To reload it, use:\n",
      "  %reload_ext autoreload\n"
     ]
    }
   ],
   "source": [
    "#author: steeve laquitaine\n",
    "#setup\n",
    "from assets.gen_motion import *\n",
    "import numpy as np\n",
    "%load_ext autoreload\n",
    "%autoreload 2s"
   ]
  },
  {
   "cell_type": "code",
   "execution_count": 77,
   "metadata": {
    "collapsed": false
   },
   "outputs": [
    {
     "name": "stdout",
     "output_type": "stream",
     "text": [
      "(144, 1, 16, 32, 32)\n",
      "(144, 6)\n",
      "(16, 1, 16, 32, 32)\n",
      "(6,)\n"
     ]
    }
   ],
   "source": [
    "#gen_dataset(size, N, types, velocity, theta, coherence, dots, direction)\n",
    "X_train,Y_train,X_test,Y_test = gen_dataset((16,32,32),20,['translate','expandContract','opticflow','rotation'],[0],[0],[0],[150],[-1,1])\n",
    "print X_train.shape\n",
    "print Y_train.shape\n",
    "print X_test.shape\n",
    "print Y_test.shape"
   ]
  },
  {
   "cell_type": "code",
   "execution_count": null,
   "metadata": {
    "collapsed": true
   },
   "outputs": [],
   "source": []
  }
 ],
 "metadata": {
  "kernelspec": {
   "display_name": "Python 2",
   "language": "python",
   "name": "python2"
  },
  "language_info": {
   "codemirror_mode": {
    "name": "ipython",
    "version": 2
   },
   "file_extension": ".py",
   "mimetype": "text/x-python",
   "name": "python",
   "nbconvert_exporter": "python",
   "pygments_lexer": "ipython2",
   "version": "2.7.11"
  }
 },
 "nbformat": 4,
 "nbformat_minor": 0
}
