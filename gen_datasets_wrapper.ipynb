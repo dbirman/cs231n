{
 "cells": [
  {
   "cell_type": "markdown",
   "metadata": {
    "collapsed": false
   },
   "source": [
    "### Setup"
   ]
  },
  {
   "cell_type": "code",
   "execution_count": 105,
   "metadata": {
    "collapsed": false
   },
   "outputs": [
    {
     "ename": "ImportError",
     "evalue": "cannot import name visualize_matrix2",
     "output_type": "error",
     "traceback": [
      "\u001b[0;31m---------------------------------------------------------------------------\u001b[0m",
      "\u001b[0;31mImportError\u001b[0m                               Traceback (most recent call last)",
      "\u001b[0;32m<ipython-input-105-8af14eb98462>\u001b[0m in \u001b[0;36m<module>\u001b[0;34m()\u001b[0m\n\u001b[1;32m      3\u001b[0m \u001b[0;32mfrom\u001b[0m \u001b[0massets\u001b[0m\u001b[0;34m.\u001b[0m\u001b[0mgen_motion\u001b[0m \u001b[0;32mimport\u001b[0m \u001b[0;34m*\u001b[0m\u001b[0;34m\u001b[0m\u001b[0m\n\u001b[1;32m      4\u001b[0m \u001b[0;32mimport\u001b[0m \u001b[0mnumpy\u001b[0m \u001b[0;32mas\u001b[0m \u001b[0mnp\u001b[0m\u001b[0;34m\u001b[0m\u001b[0m\n\u001b[0;32m----> 5\u001b[0;31m \u001b[0;32mfrom\u001b[0m \u001b[0massets\u001b[0m\u001b[0;34m.\u001b[0m\u001b[0mvis_utils\u001b[0m \u001b[0;32mimport\u001b[0m \u001b[0mvisualize_matrix2\u001b[0m\u001b[0;34m\u001b[0m\u001b[0m\n\u001b[0m\u001b[1;32m      6\u001b[0m \u001b[0mget_ipython\u001b[0m\u001b[0;34m(\u001b[0m\u001b[0;34m)\u001b[0m\u001b[0;34m.\u001b[0m\u001b[0mmagic\u001b[0m\u001b[0;34m(\u001b[0m\u001b[0;34mu'load_ext autoreload'\u001b[0m\u001b[0;34m)\u001b[0m\u001b[0;34m\u001b[0m\u001b[0m\n\u001b[1;32m      7\u001b[0m \u001b[0mget_ipython\u001b[0m\u001b[0;34m(\u001b[0m\u001b[0;34m)\u001b[0m\u001b[0;34m.\u001b[0m\u001b[0mmagic\u001b[0m\u001b[0;34m(\u001b[0m\u001b[0;34mu'autoreload 2'\u001b[0m\u001b[0;34m)\u001b[0m\u001b[0;34m\u001b[0m\u001b[0m\n",
      "\u001b[0;31mImportError\u001b[0m: cannot import name visualize_matrix2"
     ]
    }
   ],
   "source": [
    "#author: steeve laquitaine\n",
    "#setup\n",
    "from assets.gen_motion import *\n",
    "import numpy as np\n",
    "from assets.vis_utils import visualize_matrix2\n",
    "%load_ext autoreload\n",
    "%autoreload 2\n",
    "%matplotlib nbagg"
   ]
  },
  {
   "cell_type": "markdown",
   "metadata": {},
   "source": [
    "### Generate example downward motion"
   ]
  },
  {
   "cell_type": "code",
   "execution_count": 103,
   "metadata": {
    "collapsed": false
   },
   "outputs": [
    {
     "name": "stdout",
     "output_type": "stream",
     "text": [
      "(1, 1, 16, 32, 32)\n",
      "(1, 6)\n",
      "(0, 1, 16, 32, 32)\n",
      "(0, 6)\n",
      "(1, 1, 16, 32, 32)\n",
      "(0, 1, 16, 32, 32)\n",
      "(0, 1, 16, 32, 32)\n"
     ]
    }
   ],
   "source": [
    "#gen_dataset(size, N, types, velocity, theta, coherence, dots, direction)\n",
    "# X_train,Y_train,X_test,Y_test = gen_dataset((16,32,32),20,['translate','expandContract','opticflow','rotation'],[0],[0],[0],[150],[-1,1])\n",
    "X_train, Y_train,X_val,Y_val, X_test, Y_test = gen_dataset((16,32,32),1,None,['translate'],[1],[0],[1],[150],[1],vt_prop=0.1,dot_radius=1,contrast=1,Snoise=10,retina=1)\n",
    "print X_train.shape\n",
    "print Y_train.shape\n",
    "print X_test.shape\n",
    "print Y_test.shape\n",
    "print X_train_LGN.shape\n",
    "print X_val_LGN.shape\n",
    "print X_test_LGN.shape"
   ]
  },
  {
   "cell_type": "markdown",
   "metadata": {},
   "source": [
    "### Visualize one train video"
   ]
  },
  {
   "cell_type": "code",
   "execution_count": 104,
   "metadata": {
    "collapsed": false
   },
   "outputs": [
    {
     "ename": "NameError",
     "evalue": "name 'visualize_matrix2' is not defined",
     "output_type": "error",
     "traceback": [
      "\u001b[0;31m---------------------------------------------------------------------------\u001b[0m",
      "\u001b[0;31mNameError\u001b[0m                                 Traceback (most recent call last)",
      "\u001b[0;32m<ipython-input-104-057d4bab7902>\u001b[0m in \u001b[0;36m<module>\u001b[0;34m()\u001b[0m\n\u001b[1;32m      3\u001b[0m \u001b[0;34m\u001b[0m\u001b[0m\n\u001b[1;32m      4\u001b[0m \u001b[0;31m#visualize\u001b[0m\u001b[0;34m\u001b[0m\u001b[0;34m\u001b[0m\u001b[0m\n\u001b[0;32m----> 5\u001b[0;31m \u001b[0mvisualize_matrix2\u001b[0m\u001b[0;34m(\u001b[0m\u001b[0mc\u001b[0m\u001b[0;34m)\u001b[0m\u001b[0;34m\u001b[0m\u001b[0m\n\u001b[0m",
      "\u001b[0;31mNameError\u001b[0m: name 'visualize_matrix2' is not defined"
     ]
    }
   ],
   "source": [
    "#get 1st example raw motion\n",
    "c = X_train[0,:,:,:,:][0]\n",
    "\n",
    "#visualize\n",
    "visualize_matrix2(c)"
   ]
  },
  {
   "cell_type": "code",
   "execution_count": 2,
   "metadata": {
    "collapsed": false
   },
   "outputs": [
    {
     "name": "stdout",
     "output_type": "stream",
     "text": [
      "(36, 1, 16, 32, 32)\n",
      "(36, 6)\n",
      "(4, 1, 16, 32, 32)\n",
      "(4, 6)\n"
     ]
    }
   ],
   "source": [
    "X_train,Y_train,X_test,Y_test = gen_dataset((16,32,32),20,'square', (5,5,0), 0, 1, ['translate'],[0],[0],[0],[150],[-1,1])\n",
    "print X_train.shape\n",
    "print Y_train.shape\n",
    "print X_test.shape\n",
    "print Y_test.shape"
   ]
  },
  {
   "cell_type": "code",
   "execution_count": 3,
   "metadata": {
    "collapsed": false
   },
   "outputs": [
    {
     "name": "stdout",
     "output_type": "stream",
     "text": [
      "[[   0.    0.    0. ...,    0.    0.    0.]\n",
      " [ 255.    0.  255. ...,    0.    0.    0.]\n",
      " [ 255.    0.    0. ...,    0.    0.  255.]\n",
      " ..., \n",
      " [   0.    0.    0. ...,    0.    0.    0.]\n",
      " [   0.    0.    0. ...,    0.    0.    0.]\n",
      " [   0.    0.    0. ...,    0.    0.    0.]]\n"
     ]
    }
   ],
   "source": [
    "print X_train[0,0,0,:,:]"
   ]
  },
  {
   "cell_type": "code",
   "execution_count": 4,
   "metadata": {
    "collapsed": false
   },
   "outputs": [
    {
     "name": "stdout",
     "output_type": "stream",
     "text": [
      "[[ 1.  1.  1.  1.  1.  0.]\n",
      " [ 1.  1.  1.  1.  1.  0.]\n",
      " [ 1.  1.  1.  1.  1.  0.]\n",
      " [ 1.  1.  1.  1.  1.  0.]\n",
      " [ 1.  1.  1.  1.  1.  0.]\n",
      " [ 1.  1.  1.  1.  1.  0.]\n",
      " [ 1.  1.  1.  1.  1.  0.]\n",
      " [ 1.  1.  1.  1.  1.  0.]\n",
      " [ 1.  1.  1.  1.  1.  0.]\n",
      " [ 1.  1.  1.  1.  1.  0.]\n",
      " [ 1.  1.  1.  1.  1.  0.]\n",
      " [ 1.  1.  1.  1.  1.  0.]\n",
      " [ 1.  1.  1.  1.  1.  0.]\n",
      " [ 1.  1.  1.  1.  1.  0.]\n",
      " [ 1.  1.  1.  1.  1.  0.]\n",
      " [ 1.  1.  1.  1.  1.  0.]\n",
      " [ 1.  1.  1.  1.  1.  0.]\n",
      " [ 1.  1.  1.  1.  1.  0.]\n",
      " [ 1.  1.  1.  1.  1.  0.]\n",
      " [ 1.  1.  1.  1.  1.  0.]\n",
      " [ 1.  1.  1.  1.  1.  0.]\n",
      " [ 1.  1.  1.  1.  1.  0.]\n",
      " [ 1.  1.  1.  1.  1.  0.]\n",
      " [ 1.  1.  1.  1.  1.  0.]\n",
      " [ 1.  1.  1.  1.  1.  0.]\n",
      " [ 1.  1.  1.  1.  1.  0.]\n",
      " [ 1.  1.  1.  1.  1.  0.]\n",
      " [ 1.  1.  1.  1.  1.  0.]\n",
      " [ 1.  1.  1.  1.  1.  0.]\n",
      " [ 1.  1.  1.  1.  1.  0.]\n",
      " [ 1.  1.  1.  1.  1.  0.]\n",
      " [ 1.  1.  1.  1.  1.  0.]\n",
      " [ 1.  1.  1.  1.  1.  0.]\n",
      " [ 1.  1.  1.  1.  1.  0.]\n",
      " [ 1.  1.  1.  1.  1.  0.]\n",
      " [ 1.  1.  1.  1.  1.  0.]]\n"
     ]
    }
   ],
   "source": [
    "print Y_train"
   ]
  },
  {
   "cell_type": "code",
   "execution_count": null,
   "metadata": {
    "collapsed": true
   },
   "outputs": [],
   "source": []
  }
 ],
 "metadata": {
  "kernelspec": {
   "display_name": "Python 2",
   "language": "python",
   "name": "python2"
  },
  "language_info": {
   "codemirror_mode": {
    "name": "ipython",
    "version": 2
   },
   "file_extension": ".py",
   "mimetype": "text/x-python",
   "name": "python",
   "nbconvert_exporter": "python",
   "pygments_lexer": "ipython2",
   "version": "2.7.11"
  }
 },
 "nbformat": 4,
 "nbformat_minor": 0
}
