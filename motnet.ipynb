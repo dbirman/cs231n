{
 "cells": [
  {
   "cell_type": "code",
   "execution_count": 3,
   "metadata": {
    "collapsed": false
   },
   "outputs": [],
   "source": [
    "import cPickle as pickle"
   ]
  },
  {
   "cell_type": "code",
   "execution_count": 8,
   "metadata": {
    "collapsed": false
   },
   "outputs": [],
   "source": [
    "# load dataset from gen_dataset\n",
    "data = pickle.load(open('assets/data/lr_ds.data','rb'))"
   ]
  },
  {
   "cell_type": "code",
   "execution_count": 13,
   "metadata": {
    "collapsed": false
   },
   "outputs": [
    {
     "name": "stdout",
     "output_type": "stream",
     "text": [
      "Train data shape:  (800, 32, 32, 16)\n",
      "Train labels shape:  (800,)\n",
      "Validation data shape:  (100, 32, 32, 16)\n",
      "Validation labels shape:  (100,)\n",
      "Test data shape:  (100, 32, 32, 16)\n",
      "Test labels shape:  (100,)\n"
     ]
    }
   ],
   "source": [
    "X_train = data['X_train']\n",
    "y_train = data['y_train']\n",
    "X_val = data['X_val']\n",
    "y_val = data['y_val']\n",
    "X_test = data['X_test']\n",
    "y_test = data['y_test']\n",
    "print 'Train data shape: ', X_train.shape\n",
    "print 'Train labels shape: ', y_train.shape\n",
    "print 'Validation data shape: ', X_val.shape\n",
    "print 'Validation labels shape: ', y_val.shape\n",
    "print 'Test data shape: ', X_test.shape\n",
    "print 'Test labels shape: ', y_test.shape"
   ]
  },
  {
   "cell_type": "code",
   "execution_count": null,
   "metadata": {
    "collapsed": true
   },
   "outputs": [],
   "source": [
    "# -*- coding: utf-8 -*-\n",
    "\"\"\"\n",
    "CS 231N Project: 3D CNN with Optical Flow Regularization\n",
    "Experiments\n",
    "Created on Sun Mar  1 14:47:40 2015\n",
    "@author: Kevin Chavez\n",
    "\"\"\"\n",
    "from assets.cnn-project-master.src.convnet3d.cnn3d import ConvNet3D\n",
    "from assets.cnn-project-master.src.convnet3d.solver import Solver\n",
    "\n",
    "video_shape = (32,32,16)\n",
    "batch_size = 1\n",
    "seed = 1234\n",
    "\n",
    "# Baseline A: Small CNN\n",
    "smallnet = ConvNet3D(\"small-net\",video_shape,batch_size,seed=seed)\n",
    "smallnet.add_train_data(\"assets/data/lr_ds.data\")\n",
    "smallnet.add_val_data(\"assets/data/lr_ds_val.data\")\n",
    "smallnet.add_conv_layer(\"conv1\",(3,3,3),8)\n",
    "smallnet.add_conv_layer(\"conv2\",(3,3,3),8)\n",
    "smallnet.add_conv_layer(\"conv3\",(3,3,3),8)\n",
    "smallnet.add_fc_layer(\"fc1\",128,0.5)\n",
    "smallnet.add_softmax_layer(\"softmax\",2)\n",
    "\n",
    "reg = 5e-3\n",
    "reg_params = {\n",
    "    \"conv1_W\": reg,\n",
    "    \"conv2_W\": reg,\n",
    "    \"conv3_W\": reg,\n",
    "    \"fc1_W\": reg,\n",
    "    \"softmax_W\": reg}\n",
    "\n",
    "snapshot_params = {\n",
    "    \"dir\": \"models/smallnet\",\n",
    "    \"rate\": 4000}\n",
    "\n",
    "opt_params = {\n",
    "    \"method\": \"momentum\",\n",
    "    \"initial\": 0.5,\n",
    "    \"final\": 0.9,\n",
    "    \"step\": 0.1, # per epoch\n",
    "    \"lr_decay\": 0.95,\n",
    "    \"lr_base\": 1e-5}\n",
    "\n",
    "solver = Solver(smallnet,reg_params,opt_params)\n",
    "solver.train(100,snapshot_params,validate_rate=10,loss_rate=1)"
   ]
  }
 ],
 "metadata": {
  "kernelspec": {
   "display_name": "Python 2",
   "language": "python",
   "name": "python2"
  },
  "language_info": {
   "codemirror_mode": {
    "name": "ipython",
    "version": 2
   },
   "file_extension": ".py",
   "mimetype": "text/x-python",
   "name": "python",
   "nbconvert_exporter": "python",
   "pygments_lexer": "ipython2",
   "version": "2.7.11"
  }
 },
 "nbformat": 4,
 "nbformat_minor": 0
}
