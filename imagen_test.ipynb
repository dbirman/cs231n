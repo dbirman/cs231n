{
 "cells": [
  {
   "cell_type": "code",
   "execution_count": 1,
   "metadata": {
    "collapsed": true
   },
   "outputs": [],
   "source": [
    "import imagen as ig\n",
    "line=ig.Line(xdensity=5, ydensity=5, smoothing=0)"
   ]
  },
  {
   "cell_type": "code",
   "execution_count": 2,
   "metadata": {
    "collapsed": false
   },
   "outputs": [
    {
     "data": {
      "text/plain": [
       "array([[ 0.,  0.,  0.,  0.,  0.],\n",
       "       [ 0.,  0.,  0.,  0.,  0.],\n",
       "       [ 1.,  1.,  1.,  1.,  1.],\n",
       "       [-0., -0., -0., -0., -0.],\n",
       "       [-0., -0., -0., -0., -0.]])"
      ]
     },
     "execution_count": 2,
     "metadata": {},
     "output_type": "execute_result"
    }
   ],
   "source": [
    "line()"
   ]
  },
  {
   "cell_type": "code",
   "execution_count": 4,
   "metadata": {
    "collapsed": false
   },
   "outputs": [
    {
     "data": {
      "text/plain": [
       "array([[ 0. ,  0.1,  0.7,  1. ,  1. ],\n",
       "       [ 0.1,  0.7,  1. ,  1. ,  1. ],\n",
       "       [ 0.7,  1. ,  1. ,  1. ,  0.7],\n",
       "       [ 1. ,  1. ,  1. ,  0.7,  0.1],\n",
       "       [ 1. ,  1. ,  0.7,  0.1,  0. ]])"
      ]
     },
     "execution_count": 4,
     "metadata": {},
     "output_type": "execute_result"
    }
   ],
   "source": [
    "import numpy as np\n",
    "np.set_printoptions(1)\n",
    "line(smoothing=0.1,orientation=0.8,thickness=0.4)"
   ]
  },
  {
   "cell_type": "code",
   "execution_count": 5,
   "metadata": {
    "collapsed": false
   },
   "outputs": [
    {
     "name": "stdout",
     "output_type": "stream",
     "text": [
      "The holoviews.ipython extension is already loaded. To reload it, use:\n",
      "  %reload_ext holoviews.ipython\n"
     ]
    },
    {
     "data": {
      "text/html": [
       "<img src='data:image/png;base64,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' style='max-width:100%; margin: auto; display: block; '/>"
      ],
      "text/plain": [
       ":Image   [x,y]   (z)"
      ]
     },
     "execution_count": 5,
     "metadata": {},
     "output_type": "execute_result"
    }
   ],
   "source": [
    "import holoviews\n",
    "%load_ext holoviews.ipython\n",
    "\n",
    "line.set_param(xdensity=72,ydensity=72,orientation=np.pi/4, thickness=0.1, smoothing=0.02)\n",
    "line[:]"
   ]
  },
  {
   "cell_type": "code",
   "execution_count": null,
   "metadata": {
    "collapsed": true
   },
   "outputs": [],
   "source": []
  }
 ],
 "metadata": {
  "kernelspec": {
   "display_name": "Python 2",
   "language": "python",
   "name": "python2"
  },
  "language_info": {
   "codemirror_mode": {
    "name": "ipython",
    "version": 2
   },
   "file_extension": ".py",
   "mimetype": "text/x-python",
   "name": "python",
   "nbconvert_exporter": "python",
   "pygments_lexer": "ipython2",
   "version": "2.7.11"
  }
 },
 "nbformat": 4,
 "nbformat_minor": 0
}
