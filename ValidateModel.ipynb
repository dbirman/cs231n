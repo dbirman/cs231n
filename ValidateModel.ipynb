{
 "cells": [
  {
   "cell_type": "code",
   "execution_count": 8,
   "metadata": {
    "collapsed": false
   },
   "outputs": [
    {
     "name": "stdout",
     "output_type": "stream",
     "text": [
      "The autoreload extension is already loaded. To reload it, use:\n",
      "  %reload_ext autoreload\n"
     ]
    }
   ],
   "source": [
    "import numpy as np\n",
    "\n",
    "#from assets.keras.keras.datasets import shapes_3d\n",
    "from assets.keras.keras.preprocessing.image import ImageDataGenerator\n",
    "from assets.keras.keras.models import Sequential\n",
    "from assets.keras.keras.layers.core import Dense, Dropout, Activation, Flatten\n",
    "from assets.keras.keras.layers.convolutional import Convolution3D, MaxPooling3D, ZeroPadding3D\n",
    "from assets.keras.keras.layers.normalization import BatchNormalization\n",
    "from assets.keras.keras.optimizers import SGD, RMSprop, Adam\n",
    "from assets.keras.keras.utils import np_utils, generic_utils\n",
    "from assets.keras.keras.regularizers import l2\n",
    "from assets.keras.keras.callbacks import EarlyStopping, ModelCheckpoint\n",
    "from assets.validation import *\n",
    "from assets.vis_utils import *\n",
    "import theano\n",
    "import matplotlib.pyplot as plt\n",
    "import math\n",
    "from assets.vis_utils import *\n",
    "%matplotlib nbagg\n",
    "%load_ext autoreload\n",
    "%autoreload 2\n",
    "\n",
    "#load dataset from gen_dataset\n",
    "import cPickle as pickle\n",
    "\n",
    "from assets.saveloadmodel import loadmodel\n",
    "modelid = 300\n",
    "thismodel = loadmodel(modelid)"
   ]
  },
  {
   "cell_type": "code",
   "execution_count": null,
   "metadata": {
    "collapsed": false
   },
   "outputs": [],
   "source": [
    "reps = 10\n",
    "adata = validate_model(thismodel,reps,(1,3,15,1,4),run=[1,1,1,1,1],n=100)"
   ]
  }
 ],
 "metadata": {
  "kernelspec": {
   "display_name": "Python 2",
   "language": "python",
   "name": "python2"
  },
  "language_info": {
   "codemirror_mode": {
    "name": "ipython",
    "version": 2
   },
   "file_extension": ".py",
   "mimetype": "text/x-python",
   "name": "python",
   "nbconvert_exporter": "python",
   "pygments_lexer": "ipython2",
   "version": "2.7.11"
  }
 },
 "nbformat": 4,
 "nbformat_minor": 0
}
