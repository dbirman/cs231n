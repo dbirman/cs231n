{
 "cells": [
  {
   "cell_type": "markdown",
   "metadata": {},
   "source": [
    "### Create Datasets\n",
    "\n",
    "Each block here will run our various motion creation codes to generate datasets. "
   ]
  },
  {
   "cell_type": "code",
   "execution_count": 1,
   "metadata": {
    "collapsed": false
   },
   "outputs": [],
   "source": [
    "from assets.motion import *\n",
    "import numpy as np\n",
    "import cPickle as pickle\n",
    "%load_ext autoreload\n",
    "%autoreload 2\n",
    "%matplotlib nbagg"
   ]
  },
  {
   "cell_type": "code",
   "execution_count": 47,
   "metadata": {
    "collapsed": false
   },
   "outputs": [
    {
     "name": "stdout",
     "output_type": "stream",
     "text": [
      "1000\n",
      "800\n",
      "100\n",
      "100\n",
      "1000\n"
     ]
    }
   ],
   "source": [
    "# Generate a left/right dataset\n",
    "x = 32\n",
    "y = 32\n",
    "t = 16\n",
    "n = 150\n",
    "\n",
    "cohs = [1]\n",
    "spds = [1]\n",
    "\n",
    "block = 1000 # must be power of 10\n",
    "\n",
    "total = len(cohs)*len(spds)*block\n",
    "print total\n",
    "\n",
    "alldata = np.zeros((total,x,y,t),dtype='uint8')\n",
    "y_data = np.zeros(total)\n",
    "\n",
    "for ci in np.arange(len(cohs)):\n",
    "    coh = cohs[ci]\n",
    "    for si in np.arange(len(spds)):\n",
    "        spd = spds[si]\n",
    "        left = Translate(x,y,t,n,spd,np.pi*1.5,coh)\n",
    "        right = Translate(x,y,t,n,spd,np.pi*0.5,coh)\n",
    "        for i in np.arange(block/2):\n",
    "            idx = ci * len(spds)*block + si * block\n",
    "            left.gen()\n",
    "            right.gen()\n",
    "            alldata[idx+i*2,:,:,:] = left.data\n",
    "            y_data[idx+i*2] = 1\n",
    "            alldata[idx+i*2+1,:,:,:] = right.data\n",
    "            y_data[idx+i*2+1] = 2\n",
    "            \n",
    "tr = 0.8\n",
    "va = 0.1\n",
    "te = 0.1\n",
    "\n",
    "num_train = np.round(total * tr).astype(int)\n",
    "num_val = np.round(total* va).astype(int)\n",
    "num_test = np.round(total*te).astype(int)\n",
    "\n",
    "print num_train\n",
    "print num_val\n",
    "print num_test\n",
    "print total\n",
    "\n",
    "X_train = alldata[0:num_train,:,:,:]\n",
    "y_train = y_data[0:num_train]\n",
    "X_val = alldata[num_train:num_train+num_val,:,:,:]\n",
    "y_val = y_data[num_train:num_train+num_val]\n",
    "X_test = alldata[num_train+num_val:num_train+num_val+num_test,:,:,:]\n",
    "y_test = y_data[num_train+num_val:num_train+num_val+num_test]"
   ]
  },
  {
   "cell_type": "code",
   "execution_count": 49,
   "metadata": {
    "collapsed": false
   },
   "outputs": [],
   "source": [
    "data = {}\n",
    "data['X_train'] = X_train\n",
    "data['y_train'] = y_train\n",
    "data['X_val'] = X_val\n",
    "data['y_val'] = y_val\n",
    "data['X_test'] = X_test\n",
    "data['y_test'] = y_test\n",
    "\n",
    "# Now save the dataset\n",
    "pickle.dump( data, open( \"assets/data/lr_ds.data\", \"wb\" ) )"
   ]
  },
  {
   "cell_type": "code",
   "execution_count": 48,
   "metadata": {
    "collapsed": false
   },
   "outputs": [
    {
     "name": "stdout",
     "output_type": "stream",
     "text": [
      "(1000, 32, 32, 16)\n",
      "[ 1.  2.  1.  2.  1.  2.  1.  2.  1.  2.  1.  2.  1.  2.  1.  2.  1.  2.\n",
      "  1.  2.  1.  2.  1.  2.  1.  2.  1.  2.  1.  2.  1.  2.  1.  2.  1.  2.\n",
      "  1.  2.  1.  2.  1.  2.  1.  2.  1.  2.  1.  2.  1.  2.  1.  2.  1.  2.\n",
      "  1.  2.  1.  2.  1.  2.  1.  2.  1.  2.  1.  2.  1.  2.  1.  2.  1.  2.\n",
      "  1.  2.  1.  2.  1.  2.  1.  2.  1.  2.  1.  2.  1.  2.  1.  2.  1.  2.\n",
      "  1.  2.  1.  2.  1.  2.  1.  2.  1.  2.]\n",
      "(800, 32, 32, 16)\n",
      "(100, 32, 32, 16)\n",
      "(100, 32, 32, 16)\n"
     ]
    }
   ],
   "source": [
    "print alldata.shape\n",
    "print y_data[0:100]\n",
    "print X_train.shape\n",
    "print X_val.shape\n",
    "print X_test.shape"
   ]
  },
  {
   "cell_type": "code",
   "execution_count": null,
   "metadata": {
    "collapsed": true
   },
   "outputs": [],
   "source": []
  }
 ],
 "metadata": {
  "kernelspec": {
   "display_name": "Python 2",
   "language": "python",
   "name": "python2"
  },
  "language_info": {
   "codemirror_mode": {
    "name": "ipython",
    "version": 2
   },
   "file_extension": ".py",
   "mimetype": "text/x-python",
   "name": "python",
   "nbconvert_exporter": "python",
   "pygments_lexer": "ipython2",
   "version": "2.7.11"
  }
 },
 "nbformat": 4,
 "nbformat_minor": 0
}
