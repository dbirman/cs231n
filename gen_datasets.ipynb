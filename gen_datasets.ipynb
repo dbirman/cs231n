{
 "cells": [
  {
   "cell_type": "markdown",
   "metadata": {},
   "source": [
    "### Create Datasets\n",
    "\n",
    "Each block here will run our various motion creation codes to generate datasets. "
   ]
  },
  {
   "cell_type": "code",
   "execution_count": 19,
   "metadata": {
    "collapsed": false
   },
   "outputs": [
    {
     "name": "stdout",
     "output_type": "stream",
     "text": [
      "The autoreload extension is already loaded. To reload it, use:\n",
      "  %reload_ext autoreload\n"
     ]
    }
   ],
   "source": [
    "from assets.motion import *\n",
    "import numpy as np\n",
    "import cPickle as pickle\n",
    "%load_ext autoreload\n",
    "%autoreload 2\n",
    "%matplotlib nbagg"
   ]
  },
  {
   "cell_type": "code",
   "execution_count": 15,
   "metadata": {
    "collapsed": false
   },
   "outputs": [
    {
     "ename": "NameError",
     "evalue": "name 'data' is not defined",
     "output_type": "error",
     "traceback": [
      "\u001b[0;31m---------------------------------------------------------------------------\u001b[0m",
      "\u001b[0;31mNameError\u001b[0m                                 Traceback (most recent call last)",
      "\u001b[0;32m<ipython-input-15-85e0476693d6>\u001b[0m in \u001b[0;36m<module>\u001b[0;34m()\u001b[0m\n\u001b[1;32m     34\u001b[0m             \u001b[0my_train\u001b[0m\u001b[0;34m[\u001b[0m\u001b[0mi\u001b[0m\u001b[0;34m*\u001b[0m\u001b[0;36m2\u001b[0m\u001b[0;34m+\u001b[0m\u001b[0;36m1\u001b[0m\u001b[0;34m]\u001b[0m \u001b[0;34m=\u001b[0m \u001b[0;36m2\u001b[0m\u001b[0;34m\u001b[0m\u001b[0m\n\u001b[1;32m     35\u001b[0m \u001b[0;34m\u001b[0m\u001b[0m\n\u001b[0;32m---> 36\u001b[0;31m \u001b[0mdata\u001b[0m\u001b[0;34m[\u001b[0m\u001b[0;34m'X_train'\u001b[0m\u001b[0;34m]\u001b[0m \u001b[0;34m=\u001b[0m \u001b[0mX_train\u001b[0m\u001b[0;34m\u001b[0m\u001b[0m\n\u001b[0m\u001b[1;32m     37\u001b[0m \u001b[0mdata\u001b[0m\u001b[0;34m[\u001b[0m\u001b[0;34m'y_train'\u001b[0m\u001b[0;34m]\u001b[0m \u001b[0;34m=\u001b[0m \u001b[0my_train\u001b[0m\u001b[0;34m\u001b[0m\u001b[0m\n\u001b[1;32m     38\u001b[0m \u001b[0mdata\u001b[0m\u001b[0;34m[\u001b[0m\u001b[0;34m'X_val'\u001b[0m\u001b[0;34m]\u001b[0m \u001b[0;34m=\u001b[0m \u001b[0mX_val\u001b[0m\u001b[0;34m\u001b[0m\u001b[0m\n",
      "\u001b[0;31mNameError\u001b[0m: name 'data' is not defined"
     ]
    }
   ],
   "source": [
    "# Generate a left/right dataset\n",
    "x = 32\n",
    "y = 32\n",
    "t = 16\n",
    "n = 150\n",
    "\n",
    "cohs = [.25,.5,.75,1]\n",
    "spds = [1,2,3]\n",
    "\n",
    "block = 100\n",
    "\n",
    "num_train = len(cohs)*len(spds)*block*20\n",
    "num_val = len(cohs)*len(spds)*block\n",
    "num_test = len(cohs)*len(spds)*block\n",
    "\n",
    "X_train = np.zeros((num_train,x,y,t))\n",
    "y_train = np.zeros(num_train)\n",
    "X_val = np.zeros((num_val,x,y,t))\n",
    "y_val = np.zeros(num_val)\n",
    "X_test = np.zeros((num_test,x,y,t))\n",
    "y_test = np.zeros(num_test)\n",
    "\n",
    "for coh in cohs:\n",
    "    for spd in spds:\n",
    "        left = Translate(x,y,t,n,spd,np.pi*1.5,coh)\n",
    "        right = Translate(x,y,t,n,spd,np.pi*0.5,coh)\n",
    "        for i in np.arange(block/2):\n",
    "            idx = coh * len(spds)*block + spd * block + i\n",
    "            left.gen()\n",
    "            right.gen()\n",
    "            X_train[i*2,:,:,:] = left.data\n",
    "            y_train[i*2] = 1\n",
    "            X_train[i*2+1,:,:,:] = right.data\n",
    "            y_train[i*2+1] = 2"
   ]
  },
  {
   "cell_type": "code",
   "execution_count": null,
   "metadata": {
    "collapsed": true
   },
   "outputs": [],
   "source": [
    "data = {}\n",
    "data['X_train'] = X_train\n",
    "data['y_train'] = y_train\n",
    "data['X_val'] = X_val\n",
    "data['y_val'] = y_val\n",
    "data['X_test'] = X_test\n",
    "data['y_test'] = y_test\n",
    "\n",
    "# Now save the dataset\n",
    "pickle.dump( data, open( \"assets/data/lr_ds.p\", \"wb\" ) )"
   ]
  },
  {
   "cell_type": "code",
   "execution_count": 18,
   "metadata": {
    "collapsed": false
   },
   "outputs": [
    {
     "name": "stdout",
     "output_type": "stream",
     "text": [
      "[ 1.  2.  1.  2.  1.  2.  1.  2.  1.  2.  1.  2.  1.  2.  1.  2.  1.  2.\n",
      "  1.  2.  1.  2.  1.  2.  1.  2.  1.  2.  1.  2.  1.  2.  1.  2.  1.  2.\n",
      "  1.  2.  1.  2.  1.  2.  1.  2.  1.  2.  1.  2.  1.  2.  1.  2.  1.  2.\n",
      "  1.  2.  1.  2.  1.  2.  1.  2.  1.  2.  1.  2.  1.  2.  1.  2.  1.  2.\n",
      "  1.  2.  1.  2.  1.  2.  1.  2.  1.  2.  1.  2.  1.  2.  1.  2.  1.  2.\n",
      "  1.  2.  1.  2.  1.  2.  1.  2.  1.  2.]\n"
     ]
    }
   ],
   "source": [
    "X_train.shape\n",
    "y_train.shape\n",
    "print y_train[0:100]"
   ]
  },
  {
   "cell_type": "code",
   "execution_count": null,
   "metadata": {
    "collapsed": true
   },
   "outputs": [],
   "source": []
  }
 ],
 "metadata": {
  "kernelspec": {
   "display_name": "Python 2",
   "language": "python",
   "name": "python2"
  },
  "language_info": {
   "codemirror_mode": {
    "name": "ipython",
    "version": 2
   },
   "file_extension": ".py",
   "mimetype": "text/x-python",
   "name": "python",
   "nbconvert_exporter": "python",
   "pygments_lexer": "ipython2",
   "version": "2.7.11"
  }
 },
 "nbformat": 4,
 "nbformat_minor": 0
}
